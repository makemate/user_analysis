{
 "cells": [
  {
   "cell_type": "code",
   "execution_count": 1,
   "metadata": {},
   "outputs": [
    {
     "name": "stdout",
     "output_type": "stream",
     "text": [
      "learner_item_data.csv\n",
      "test_groups.csv\n",
      "\n"
     ]
    }
   ],
   "source": [
    "import pandas as pd\n",
    "import os\n",
    "from subprocess import check_output\n",
    "import datetime as dt\n",
    "import matplotlib.pyplot as plt\n",
    "%matplotlib inline\n",
    "import numpy as np\n",
    "print(check_output(['ls', './challenge_data']).decode('utf-8'))"
   ]
  },
  {
   "cell_type": "markdown",
   "metadata": {},
   "source": [
    "Load data:"
   ]
  },
  {
   "cell_type": "code",
   "execution_count": 2,
   "metadata": {
    "collapsed": true
   },
   "outputs": [],
   "source": [
    "data_source = './challenge_data'\n",
    "test_groups = pd.read_csv(os.path.join(data_source, 'test_groups.csv'))\n",
    "learner_item = pd.read_csv(os.path.join(data_source, 'learner_item_data.csv'))"
   ]
  },
  {
   "cell_type": "markdown",
   "metadata": {},
   "source": [
    "Inspecting data:"
   ]
  },
  {
   "cell_type": "code",
   "execution_count": 3,
   "metadata": {},
   "outputs": [
    {
     "data": {
      "text/html": [
       "<div>\n",
       "<style scoped>\n",
       "    .dataframe tbody tr th:only-of-type {\n",
       "        vertical-align: middle;\n",
       "    }\n",
       "\n",
       "    .dataframe tbody tr th {\n",
       "        vertical-align: top;\n",
       "    }\n",
       "\n",
       "    .dataframe thead th {\n",
       "        text-align: right;\n",
       "    }\n",
       "</style>\n",
       "<table border=\"1\" class=\"dataframe\">\n",
       "  <thead>\n",
       "    <tr style=\"text-align: right;\">\n",
       "      <th></th>\n",
       "      <th>test_group</th>\n",
       "      <th>uuid</th>\n",
       "    </tr>\n",
       "  </thead>\n",
       "  <tbody>\n",
       "    <tr>\n",
       "      <th>0</th>\n",
       "      <td>control</td>\n",
       "      <td>6953977</td>\n",
       "    </tr>\n",
       "    <tr>\n",
       "      <th>1</th>\n",
       "      <td>test</td>\n",
       "      <td>1607983</td>\n",
       "    </tr>\n",
       "    <tr>\n",
       "      <th>2</th>\n",
       "      <td>control</td>\n",
       "      <td>6658627</td>\n",
       "    </tr>\n",
       "    <tr>\n",
       "      <th>3</th>\n",
       "      <td>control</td>\n",
       "      <td>4848596</td>\n",
       "    </tr>\n",
       "    <tr>\n",
       "      <th>4</th>\n",
       "      <td>test</td>\n",
       "      <td>1653336</td>\n",
       "    </tr>\n",
       "  </tbody>\n",
       "</table>\n",
       "</div>"
      ],
      "text/plain": [
       "  test_group     uuid\n",
       "0    control  6953977\n",
       "1       test  1607983\n",
       "2    control  6658627\n",
       "3    control  4848596\n",
       "4       test  1653336"
      ]
     },
     "execution_count": 3,
     "metadata": {},
     "output_type": "execute_result"
    }
   ],
   "source": [
    "test_groups.head()"
   ]
  },
  {
   "cell_type": "code",
   "execution_count": 4,
   "metadata": {},
   "outputs": [
    {
     "data": {
      "text/html": [
       "<div>\n",
       "<style scoped>\n",
       "    .dataframe tbody tr th:only-of-type {\n",
       "        vertical-align: middle;\n",
       "    }\n",
       "\n",
       "    .dataframe tbody tr th {\n",
       "        vertical-align: top;\n",
       "    }\n",
       "\n",
       "    .dataframe thead th {\n",
       "        text-align: right;\n",
       "    }\n",
       "</style>\n",
       "<table border=\"1\" class=\"dataframe\">\n",
       "  <thead>\n",
       "    <tr style=\"text-align: right;\">\n",
       "      <th></th>\n",
       "      <th>uuid</th>\n",
       "      <th>created_at</th>\n",
       "      <th>trainer_item_id</th>\n",
       "    </tr>\n",
       "  </thead>\n",
       "  <tbody>\n",
       "    <tr>\n",
       "      <th>0</th>\n",
       "      <td>6953977</td>\n",
       "      <td>2017-01-16 10:54:43.386</td>\n",
       "      <td>0</td>\n",
       "    </tr>\n",
       "    <tr>\n",
       "      <th>1</th>\n",
       "      <td>6953977</td>\n",
       "      <td>2017-01-16 10:56:25.717</td>\n",
       "      <td>1</td>\n",
       "    </tr>\n",
       "    <tr>\n",
       "      <th>2</th>\n",
       "      <td>6953977</td>\n",
       "      <td>2017-01-16 10:55:50.642</td>\n",
       "      <td>2</td>\n",
       "    </tr>\n",
       "    <tr>\n",
       "      <th>3</th>\n",
       "      <td>6953977</td>\n",
       "      <td>2017-01-16 10:54:19.796</td>\n",
       "      <td>3</td>\n",
       "    </tr>\n",
       "    <tr>\n",
       "      <th>4</th>\n",
       "      <td>6953977</td>\n",
       "      <td>2017-01-16 10:55:10.654</td>\n",
       "      <td>1</td>\n",
       "    </tr>\n",
       "  </tbody>\n",
       "</table>\n",
       "</div>"
      ],
      "text/plain": [
       "      uuid               created_at  trainer_item_id\n",
       "0  6953977  2017-01-16 10:54:43.386                0\n",
       "1  6953977  2017-01-16 10:56:25.717                1\n",
       "2  6953977  2017-01-16 10:55:50.642                2\n",
       "3  6953977  2017-01-16 10:54:19.796                3\n",
       "4  6953977  2017-01-16 10:55:10.654                1"
      ]
     },
     "execution_count": 4,
     "metadata": {},
     "output_type": "execute_result"
    }
   ],
   "source": [
    "learner_item.head()"
   ]
  },
  {
   "cell_type": "markdown",
   "metadata": {},
   "source": [
    "# 1."
   ]
  },
  {
   "cell_type": "markdown",
   "metadata": {},
   "source": [
    "Convert column `created_at` to datetime.  Calculate duration between all user events. For each new user set back the duration to zero."
   ]
  },
  {
   "cell_type": "code",
   "execution_count": 5,
   "metadata": {
    "collapsed": true
   },
   "outputs": [],
   "source": [
    "learner_item['created_at'] = pd.to_datetime(learner_item['created_at'])\n",
    "sorted_learner = learner_item.sort_values(['uuid', 'created_at'], ascending=True)\n",
    "sorted_learner['previous_uuid'] = sorted_learner['uuid'].shift()\n",
    "sorted_learner = (sorted_learner\n",
    "                .assign(time_diff = (sorted_learner['created_at'] - sorted_learner['created_at'].shift())\n",
    "                .where(sorted_learner['uuid'] == sorted_learner['previous_uuid'], dt.timedelta(0))))"
   ]
  },
  {
   "cell_type": "markdown",
   "metadata": {},
   "source": [
    "A sequence of events of the same user receives the same `session_id` if succesive events are not more than 60 minutes apart."
   ]
  },
  {
   "cell_type": "code",
   "execution_count": 6,
   "metadata": {
    "scrolled": true
   },
   "outputs": [
    {
     "data": {
      "text/html": [
       "<div>\n",
       "<style scoped>\n",
       "    .dataframe tbody tr th:only-of-type {\n",
       "        vertical-align: middle;\n",
       "    }\n",
       "\n",
       "    .dataframe tbody tr th {\n",
       "        vertical-align: top;\n",
       "    }\n",
       "\n",
       "    .dataframe thead th {\n",
       "        text-align: right;\n",
       "    }\n",
       "</style>\n",
       "<table border=\"1\" class=\"dataframe\">\n",
       "  <thead>\n",
       "    <tr style=\"text-align: right;\">\n",
       "      <th></th>\n",
       "      <th>uuid</th>\n",
       "      <th>created_at</th>\n",
       "      <th>trainer_item_id</th>\n",
       "      <th>previous_uuid</th>\n",
       "      <th>time_diff</th>\n",
       "      <th>session_id</th>\n",
       "    </tr>\n",
       "  </thead>\n",
       "  <tbody>\n",
       "    <tr>\n",
       "      <th>689933</th>\n",
       "      <td>2990</td>\n",
       "      <td>2016-12-25 11:27:22.905</td>\n",
       "      <td>2</td>\n",
       "      <td>NaN</td>\n",
       "      <td>0 days 00:00:00</td>\n",
       "      <td>2990_1</td>\n",
       "    </tr>\n",
       "    <tr>\n",
       "      <th>689927</th>\n",
       "      <td>2990</td>\n",
       "      <td>2016-12-25 11:27:28.985</td>\n",
       "      <td>0</td>\n",
       "      <td>2990.0</td>\n",
       "      <td>0 days 00:00:06.080000</td>\n",
       "      <td>2990_1</td>\n",
       "    </tr>\n",
       "    <tr>\n",
       "      <th>689931</th>\n",
       "      <td>2990</td>\n",
       "      <td>2016-12-25 11:27:33.603</td>\n",
       "      <td>3</td>\n",
       "      <td>2990.0</td>\n",
       "      <td>0 days 00:00:04.618000</td>\n",
       "      <td>2990_1</td>\n",
       "    </tr>\n",
       "    <tr>\n",
       "      <th>689929</th>\n",
       "      <td>2990</td>\n",
       "      <td>2016-12-25 11:27:38.010</td>\n",
       "      <td>1</td>\n",
       "      <td>2990.0</td>\n",
       "      <td>0 days 00:00:04.407000</td>\n",
       "      <td>2990_1</td>\n",
       "    </tr>\n",
       "    <tr>\n",
       "      <th>689544</th>\n",
       "      <td>2990</td>\n",
       "      <td>2016-12-28 09:40:57.271</td>\n",
       "      <td>604</td>\n",
       "      <td>2990.0</td>\n",
       "      <td>2 days 22:13:19.261000</td>\n",
       "      <td>2990_2</td>\n",
       "    </tr>\n",
       "  </tbody>\n",
       "</table>\n",
       "</div>"
      ],
      "text/plain": [
       "        uuid              created_at  trainer_item_id  previous_uuid  \\\n",
       "689933  2990 2016-12-25 11:27:22.905                2            NaN   \n",
       "689927  2990 2016-12-25 11:27:28.985                0         2990.0   \n",
       "689931  2990 2016-12-25 11:27:33.603                3         2990.0   \n",
       "689929  2990 2016-12-25 11:27:38.010                1         2990.0   \n",
       "689544  2990 2016-12-28 09:40:57.271              604         2990.0   \n",
       "\n",
       "                    time_diff session_id  \n",
       "689933        0 days 00:00:00     2990_1  \n",
       "689927 0 days 00:00:06.080000     2990_1  \n",
       "689931 0 days 00:00:04.618000     2990_1  \n",
       "689929 0 days 00:00:04.407000     2990_1  \n",
       "689544 2 days 22:13:19.261000     2990_2  "
      ]
     },
     "execution_count": 6,
     "metadata": {},
     "output_type": "execute_result"
    }
   ],
   "source": [
    "cond = ((sorted_learner['time_diff'] - sorted_learner['time_diff'].shift(1)).astype('timedelta64[m]') > 60) | (sorted_learner['previous_uuid'] != sorted_learner['uuid'])\n",
    "sorted_learner['session_id'] = sorted_learner[cond].groupby(['uuid']).cumcount()+1\n",
    "sorted_learner['session_id'] = sorted_learner['session_id'].fillna(method = 'ffill').astype(int)\n",
    "sorted_learner['session_id'] = sorted_learner['uuid'].map(str) + '_' + sorted_learner['session_id'].map(str)\n",
    "sorted_learner.head()"
   ]
  },
  {
   "cell_type": "markdown",
   "metadata": {},
   "source": [
    "# 2."
   ]
  },
  {
   "cell_type": "code",
   "execution_count": 7,
   "metadata": {
    "collapsed": true
   },
   "outputs": [],
   "source": [
    "def duration(x):\n",
    "    \"\"\"Helper function to calculate duration of a session.\"\"\"\n",
    "    return max(x) - min(x)"
   ]
  },
  {
   "cell_type": "markdown",
   "metadata": {},
   "source": [
    "Calulate individual session lenghts:"
   ]
  },
  {
   "cell_type": "code",
   "execution_count": 8,
   "metadata": {
    "collapsed": true
   },
   "outputs": [],
   "source": [
    "agg_session_length = sorted_learner.groupby(['session_id']).agg({\"created_at\": [duration]})"
   ]
  },
  {
   "cell_type": "markdown",
   "metadata": {},
   "source": [
    "Visualize distributions of session lengths as histogram:"
   ]
  },
  {
   "cell_type": "code",
   "execution_count": 9,
   "metadata": {
    "scrolled": true
   },
   "outputs": [
    {
     "data": {
      "image/png": "[encoded data removed]",
      "text/plain": [
       "<matplotlib.figure.Figure at 0x10334f588>"
      ]
     },
     "metadata": {},
     "output_type": "display_data"
    }
   ],
   "source": [
    "y = agg_session_length.reset_index()['created_at'].values.squeeze()/np.timedelta64(1, 'm')\n",
    "plt.figure(figsize = (16,5))\n",
    "plt.title('Distribution of session lengths')\n",
    "plt.xlabel('Session duration in minutes')\n",
    "plt.ylabel('Frequency of bins')\n",
    "plt.hist(y, normed=False, bins=2000, edgecolor='black')\n",
    "plt.xlim([0,150])\n",
    "plt.show()"
   ]
  },
  {
   "cell_type": "markdown",
   "metadata": {},
   "source": [
    "Determine number of user lessons per day:"
   ]
  },
  {
   "cell_type": "code",
   "execution_count": 10,
   "metadata": {
    "collapsed": true
   },
   "outputs": [],
   "source": [
    "sorted_learner['date'] = sorted_learner['created_at'].dt.date\n",
    "user_lessons_day = pd.DataFrame(sorted_learner.groupby(['uuid', 'date'])['session_id'].nunique()).reset_index()"
   ]
  },
  {
   "cell_type": "code",
   "execution_count": 11,
   "metadata": {},
   "outputs": [
    {
     "data": {
      "text/html": [
       "<div>\n",
       "<style scoped>\n",
       "    .dataframe tbody tr th:only-of-type {\n",
       "        vertical-align: middle;\n",
       "    }\n",
       "\n",
       "    .dataframe tbody tr th {\n",
       "        vertical-align: top;\n",
       "    }\n",
       "\n",
       "    .dataframe thead th {\n",
       "        text-align: right;\n",
       "    }\n",
       "</style>\n",
       "<table border=\"1\" class=\"dataframe\">\n",
       "  <thead>\n",
       "    <tr style=\"text-align: right;\">\n",
       "      <th></th>\n",
       "      <th>uuid</th>\n",
       "      <th>date</th>\n",
       "      <th>session_id</th>\n",
       "    </tr>\n",
       "  </thead>\n",
       "  <tbody>\n",
       "    <tr>\n",
       "      <th>0</th>\n",
       "      <td>2990</td>\n",
       "      <td>2016-12-25</td>\n",
       "      <td>1</td>\n",
       "    </tr>\n",
       "    <tr>\n",
       "      <th>1</th>\n",
       "      <td>2990</td>\n",
       "      <td>2016-12-28</td>\n",
       "      <td>1</td>\n",
       "    </tr>\n",
       "    <tr>\n",
       "      <th>2</th>\n",
       "      <td>2990</td>\n",
       "      <td>2016-12-31</td>\n",
       "      <td>1</td>\n",
       "    </tr>\n",
       "    <tr>\n",
       "      <th>3</th>\n",
       "      <td>2990</td>\n",
       "      <td>2017-01-01</td>\n",
       "      <td>3</td>\n",
       "    </tr>\n",
       "    <tr>\n",
       "      <th>4</th>\n",
       "      <td>2990</td>\n",
       "      <td>2017-01-02</td>\n",
       "      <td>1</td>\n",
       "    </tr>\n",
       "  </tbody>\n",
       "</table>\n",
       "</div>"
      ],
      "text/plain": [
       "   uuid        date  session_id\n",
       "0  2990  2016-12-25           1\n",
       "1  2990  2016-12-28           1\n",
       "2  2990  2016-12-31           1\n",
       "3  2990  2017-01-01           3\n",
       "4  2990  2017-01-02           1"
      ]
     },
     "execution_count": 11,
     "metadata": {},
     "output_type": "execute_result"
    }
   ],
   "source": [
    "user_lessons_day.head()"
   ]
  },
  {
   "cell_type": "markdown",
   "metadata": {},
   "source": [
    "Determine number of users who have done several lessons per day. "
   ]
  },
  {
   "cell_type": "code",
   "execution_count": 12,
   "metadata": {},
   "outputs": [
    {
     "data": {
      "text/plain": [
       "845"
      ]
     },
     "execution_count": 12,
     "metadata": {},
     "output_type": "execute_result"
    }
   ],
   "source": [
    "mult_session_users = user_lessons_day[user_lessons_day['session_id']>1]['uuid'].nunique()\n",
    "mult_session_users"
   ]
  },
  {
   "cell_type": "markdown",
   "metadata": {},
   "source": [
    "Total number of users:"
   ]
  },
  {
   "cell_type": "code",
   "execution_count": 13,
   "metadata": {
    "collapsed": true
   },
   "outputs": [],
   "source": [
    "all_users = user_lessons_day['uuid'].nunique()"
   ]
  },
  {
   "cell_type": "code",
   "execution_count": 14,
   "metadata": {
    "scrolled": true
   },
   "outputs": [
    {
     "name": "stdout",
     "output_type": "stream",
     "text": [
      "Percentage of users who have done at least once more than one session per day: 11.4887831407206 %\n"
     ]
    }
   ],
   "source": [
    "print('Percentage of users who have done at least once more than one session per day: {} %'\n",
    "      .format(mult_session_users/all_users * 100))"
   ]
  },
  {
   "cell_type": "markdown",
   "metadata": {},
   "source": [
    "Visualize distribution of user sessions per day as histogram."
   ]
  },
  {
   "cell_type": "code",
   "execution_count": 15,
   "metadata": {
    "scrolled": true
   },
   "outputs": [
    {
     "data": {
      "image/png": "[encoded data removed]",
      "text/plain": [
       "<matplotlib.figure.Figure at 0x1053975c0>"
      ]
     },
     "metadata": {},
     "output_type": "display_data"
    }
   ],
   "source": [
    "lessons_per_day = user_lessons_day['session_id'].nunique()\n",
    "bins = np.arange(lessons_per_day) - 0.5\n",
    "plt.figure(figsize = (16,5))\n",
    "plt.hist(user_lessons_day['session_id'], normed=False, bins=bins, edgecolor='black')\n",
    "plt.xlim([0,user_lessons_day['session_id'].nunique()+1])\n",
    "plt.xticks(np.arange(lessons_per_day))\n",
    "plt.title('Distribution of user sessions per day')\n",
    "plt.xlabel('User sessions per day')\n",
    "plt.ylabel('Frequency of bins')\n",
    "plt.show()"
   ]
  },
  {
   "cell_type": "markdown",
   "metadata": {},
   "source": [
    "# 3."
   ]
  },
  {
   "cell_type": "markdown",
   "metadata": {},
   "source": [
    "#### First, compare the percentage of users who do multiple sessions in each of the two groups."
   ]
  },
  {
   "cell_type": "markdown",
   "metadata": {},
   "source": [
    "Number of users in control group who have done at least once several sessions per day:"
   ]
  },
  {
   "cell_type": "code",
   "execution_count": 16,
   "metadata": {},
   "outputs": [],
   "source": [
    "mult_session_control = (user_lessons_day\n",
    "                        .loc[(user_lessons_day['session_id']>1) & (user_lessons_day['uuid']\n",
    "                        .isin(test_groups.uuid[test_groups['test_group']=='control']))]['uuid']\n",
    "                        .nunique())"
   ]
  },
  {
   "cell_type": "code",
   "execution_count": 17,
   "metadata": {},
   "outputs": [
    {
     "data": {
      "text/plain": [
       "481"
      ]
     },
     "execution_count": 17,
     "metadata": {},
     "output_type": "execute_result"
    }
   ],
   "source": [
    "mult_session_control"
   ]
  },
  {
   "cell_type": "markdown",
   "metadata": {},
   "source": [
    "Total number of users in control group:"
   ]
  },
  {
   "cell_type": "code",
   "execution_count": 18,
   "metadata": {
    "collapsed": true
   },
   "outputs": [],
   "source": [
    "cnt_users_control = (user_lessons_day\n",
    "                     .loc[user_lessons_day['uuid']\n",
    "                     .isin(test_groups.uuid[test_groups['test_group']=='control'])]['uuid']\n",
    "                     .nunique())"
   ]
  },
  {
   "cell_type": "code",
   "execution_count": 19,
   "metadata": {},
   "outputs": [
    {
     "data": {
      "text/plain": [
       "4309"
      ]
     },
     "execution_count": 19,
     "metadata": {},
     "output_type": "execute_result"
    }
   ],
   "source": [
    "cnt_users_control"
   ]
  },
  {
   "cell_type": "code",
   "execution_count": 20,
   "metadata": {},
   "outputs": [
    {
     "name": "stdout",
     "output_type": "stream",
     "text": [
      "Percentage of users in control group who have done at least once more than one session per day: 11.162682757020189 %\n"
     ]
    }
   ],
   "source": [
    "print('Percentage of users in control group who have done at least once more than one session per day: {} %'\n",
    "       .format(mult_session_control/cnt_users_control * 100))"
   ]
  },
  {
   "cell_type": "markdown",
   "metadata": {},
   "source": [
    "Number of users in test group who have done at least once several sessions per day:"
   ]
  },
  {
   "cell_type": "code",
   "execution_count": 21,
   "metadata": {
    "collapsed": true
   },
   "outputs": [],
   "source": [
    "mult_session_test = (user_lessons_day\n",
    "                     .loc[(user_lessons_day['session_id']>1) & (user_lessons_day['uuid']\n",
    "                     .isin(test_groups.uuid[test_groups['test_group']=='test']))]['uuid']\n",
    "                     .nunique())"
   ]
  },
  {
   "cell_type": "code",
   "execution_count": 22,
   "metadata": {},
   "outputs": [
    {
     "data": {
      "text/plain": [
       "364"
      ]
     },
     "execution_count": 22,
     "metadata": {},
     "output_type": "execute_result"
    }
   ],
   "source": [
    "mult_session_test"
   ]
  },
  {
   "cell_type": "markdown",
   "metadata": {},
   "source": [
    "Number of users in test group:"
   ]
  },
  {
   "cell_type": "code",
   "execution_count": 23,
   "metadata": {
    "collapsed": true
   },
   "outputs": [],
   "source": [
    "cnt_users_test = (user_lessons_day\n",
    "                  .loc[user_lessons_day['uuid']\n",
    "                  .isin(test_groups.uuid[test_groups['test_group']=='test'])]['uuid']\n",
    "                  .nunique())"
   ]
  },
  {
   "cell_type": "code",
   "execution_count": 24,
   "metadata": {},
   "outputs": [
    {
     "data": {
      "text/plain": [
       "3046"
      ]
     },
     "execution_count": 24,
     "metadata": {},
     "output_type": "execute_result"
    }
   ],
   "source": [
    "cnt_users_test"
   ]
  },
  {
   "cell_type": "code",
   "execution_count": 25,
   "metadata": {},
   "outputs": [
    {
     "name": "stdout",
     "output_type": "stream",
     "text": [
      "Percentage of users in test group who have done at least once more than one session per day: 11.950098489822718 %\n"
     ]
    }
   ],
   "source": [
    "print('Percentage of users in test group who have done at least once more than one session per day: {} %'\n",
    "        .format(mult_session_test/cnt_users_test * 100))"
   ]
  },
  {
   "cell_type": "markdown",
   "metadata": {},
   "source": [
    "#### Compare median session length in both groups."
   ]
  },
  {
   "cell_type": "markdown",
   "metadata": {},
   "source": [
    "Median session length in control group:"
   ]
  },
  {
   "cell_type": "code",
   "execution_count": 26,
   "metadata": {},
   "outputs": [],
   "source": [
    "median_length_control = (sorted_learner[sorted_learner['uuid']\n",
    "               .isin(test_groups.uuid[test_groups['test_group']=='control'])]\n",
    "               .groupby(['session_id']).agg({\"created_at\": [duration]})\n",
    "               .median())"
   ]
  },
  {
   "cell_type": "code",
   "execution_count": 27,
   "metadata": {},
   "outputs": [
    {
     "data": {
      "text/plain": [
       "created_at  duration   00:07:08.887500\n",
       "dtype: timedelta64[ns]"
      ]
     },
     "execution_count": 27,
     "metadata": {},
     "output_type": "execute_result"
    }
   ],
   "source": [
    "median_length_control"
   ]
  },
  {
   "cell_type": "markdown",
   "metadata": {},
   "source": [
    "Median session length in test group:"
   ]
  },
  {
   "cell_type": "code",
   "execution_count": 28,
   "metadata": {},
   "outputs": [],
   "source": [
    "median_length_test = (sorted_learner[sorted_learner['uuid']\n",
    "                .isin(test_groups.uuid[test_groups['test_group']=='test'])]\n",
    "                .groupby(['session_id']).agg({\"created_at\": [duration]})\n",
    "                .median())"
   ]
  },
  {
   "cell_type": "code",
   "execution_count": 29,
   "metadata": {},
   "outputs": [
    {
     "data": {
      "text/plain": [
       "created_at  duration   00:06:58.847000\n",
       "dtype: timedelta64[ns]"
      ]
     },
     "execution_count": 29,
     "metadata": {},
     "output_type": "execute_result"
    }
   ],
   "source": [
    "median_length_test"
   ]
  },
  {
   "cell_type": "code",
   "execution_count": 30,
   "metadata": {},
   "outputs": [
    {
     "name": "stdout",
     "output_type": "stream",
     "text": [
      "+------------------------------+---------------+------------+\n",
      "|                              | Control group | Test group |\n",
      "+------------------------------+---------------+------------+\n",
      "|   Median length in seconds   |    428.8875   |  418.847   |\n",
      "| Multiple sessions percentage |     11.16 %   |   11.95 %  |\n",
      "+------------------------------+---------------+------------+\n"
     ]
    }
   ],
   "source": [
    "from IPython.display import HTML, display\n",
    "from prettytable import PrettyTable\n",
    "t = PrettyTable([\"\",'Control group', 'Test group'])\n",
    "t.add_row([\"Median length in seconds\",median_length_control['created_at', 'duration']/np.timedelta64(1, 's'), median_length_test['created_at', 'duration']/np.timedelta64(1, 's')])\n",
    "t.add_row([\"Multiple sessions percentage\",' {0:.4g} %'.format(mult_session_control/cnt_users_control * 100) ,' {0:.4g} %'.format(mult_session_test/cnt_users_test * 100)])\n",
    "print(t)"
   ]
  },
  {
   "cell_type": "markdown",
   "metadata": {},
   "source": [
    "11.16 % in control group have done multiple lessons and 11.95 % in the test group. The difference is only small. On the other hand is the median session length shorter in the test group than in the control group (07:08 min vs. 06:58 min). \n",
    "Based on the experiments introducing the feature doesn't seem to be adivisable. There is a minimal higher percentage of multiple lessons on one day but the reason for the difference could be attributed to general differences between test and control group. The slightly higher percentage in multiple lessons can't prevent that the average usage time (represented by the median) is decling. \n",
    "To validate the results test and control groups could be switched. If further exploration reveals that the new feature is popular in a subgroup it could be introduced as an optional feature which can be activated by interested users."
   ]
  }
 ],
 "metadata": {
  "kernelspec": {
   "display_name": "Python 3",
   "language": "python",
   "name": "python3"
  },
  "language_info": {
   "codemirror_mode": {
    "name": "ipython",
    "version": 3
   },
   "file_extension": ".py",
   "mimetype": "text/x-python",
   "name": "python",
   "nbconvert_exporter": "python",
   "pygments_lexer": "ipython3",
   "version": "3.6.4"
  }
 },
 "nbformat": 4,
 "nbformat_minor": 2
}
